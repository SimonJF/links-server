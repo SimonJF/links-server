{
 "cells": [
  {
   "cell_type": "code",
   "execution_count": null,
   "metadata": {},
   "outputs": [],
   "source": [
    "1+1"
   ]
  },
  {
   "cell_type": "code",
   "execution_count": null,
   "metadata": {},
   "outputs": [],
   "source": []
  },
  {
   "cell_type": "code",
   "execution_count": null,
   "metadata": {},
   "outputs": [],
   "source": []
  }
 ],
 "metadata": {
  "kernelspec": {
   "display_name": "Links",
   "language": "",
   "name": "mykernel"
  },
  "language_info": {
   "file_extension": ".links",
   "name": "links_kernel"
  }
 },
 "nbformat": 4,
 "nbformat_minor": 2
}
