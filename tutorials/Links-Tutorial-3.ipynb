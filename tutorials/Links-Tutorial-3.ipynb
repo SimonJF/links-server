{
 "cells": [
  {
   "cell_type": "markdown",
   "metadata": {},
   "source": [
    "# Lesson 3: Client side forms\n",
    "\n",
    "### Goal: make a web form that takes a string and an integer. When the form submits you should be able to see the values you inputted.\n",
    "\n",
    "This example illustrates the second way to submit forms in Links. The form defined in the `mainPage` function is similar to the form in the previous lesson, but with one difference: the `l:onsubmit` attribute is used instead of `l:action`.\n",
    "\n",
    "The difference between the two attributes is as follows:\n",
    "\n",
    "1. `l:action` specifies a new page to display when the form is submitted. This is implemented via an HTTP POST request, involving a round-trip to the HTTP server that renders a new page. The action is specified by giving a Links expression that returns a page.\n",
    "\n",
    "\n",
    "2. `l:onsubmit` specifies an action to take on the client when the form is submitted. This is implemented by JavaScript code running in the browser client, and does not necessarily involve a round-trip to the server (this can happen, though, if the action asynchronously contacts the server for some other reason). The action is specified by giving a Links expression that returns `unit ()`; that is, the action may have side effects (such as modifying the DOM tree) but does not return a value or construct a new page.\n",
    "\n",
    "Here, the Links code called when the form is submitted is a new `handleForm` function. Unlike the previous `handleForm` function, this one does not construct a new page; instead it calls a function `replaceNode` that takes an XML fragment and a DOM node identifier. \n",
    "\n",
    "### Task\n",
    "\n",
    "Try to wire the `l:onsubmit` to call this new function. Again you need to put the Links code in {}. Also be careful with the types of the parameters. You may find `stringToInt()` to be useful.\n",
    "\n",
    "`handleForm` calls `getNodeById()` which finds the node in the DOM tree of the program that has correct id. This node can be seen in `mainPage`; it is a `<div>` node that can be replaced with content showing the form result. Modify the argument of `getNodeById` to find the correct node in the DOM tree. You can find it in the page template in `mainPage`."
   ]
  },
  {
   "cell_type": "code",
   "execution_count": 1,
   "metadata": {},
   "outputs": [
    {
     "data": {
      "text/html": [
       "()"
      ],
      "text/plain": [
       "()"
      ]
     },
     "metadata": {},
     "output_type": "display_data"
    }
   ],
   "source": [
    "fun handleForm(s,i) {\n",
    "      replaceNode(<div id=\"result\">\n",
    "          <p>The string was: {stringToXml(s)}</p>\n",
    "          <p>The integer was: {intToXml(i)}</p>\n",
    "          </div>,\n",
    "          getNodeById(\"result\"))\n",
    "}"
   ]
  },
  {
   "cell_type": "code",
   "execution_count": 2,
   "metadata": {},
   "outputs": [
    {
     "data": {
      "text/html": [
       "()"
      ],
      "text/plain": [
       "()"
      ]
     },
     "metadata": {},
     "output_type": "display_data"
    }
   ],
   "source": [
    "fun mainPage () {\n",
    "      page \n",
    "        <html>\n",
    "        <body>\n",
    "          <h1>Example form, take 2</h1>\n",
    "          <form l:onsubmit=\"{handleForm(s, stringToInt(i))}\">\n",
    "            A string: <input l:name=\"s\" value=\"foo\"/>\n",
    "            An integer: <input l:name=\"i\" value=\"42\"/>\n",
    "            <button type=\"submit\">Submit!</button>\n",
    "          </form>\n",
    "          <div id=\"result\" />\n",
    "          </body>\n",
    "        </html>\n",
    "}"
   ]
  },
  {
   "cell_type": "code",
   "execution_count": 3,
   "metadata": {},
   "outputs": [
    {
     "data": {
      "text/html": [
       "<iframe src=\"http://localhost:8080/8\" width=\"900\" height=\"400\"></iframe>"
      ],
      "text/plain": [
       "<iframe src=\"http://localhost:8080/8\" width=\"900\" height=\"400\"></iframe>"
      ]
     },
     "metadata": {},
     "output_type": "display_data"
    }
   ],
   "source": [
    "mainPage()"
   ]
  },
  {
   "cell_type": "markdown",
   "metadata": {},
   "source": [
    "## Additional Exercises\n",
    "\n",
    "1. What happens if you change `l:onsubmit` to `l:action`?\n",
    "\n",
    "\n",
    "2. Modify the code to behave appropriately (e.g. showing an error message instead of the form results) if the value of the integer field is not a valid number. (Hint: Links supports regular expression matching e.g. `str =~ /a*b*/` tests whether a string `str` is a sequence of zero or more as followed by zero or more bs).\n"
   ]
  },
  {
   "cell_type": "code",
   "execution_count": null,
   "metadata": {},
   "outputs": [],
   "source": []
  }
 ],
 "metadata": {
  "kernelspec": {
   "display_name": "Links",
   "language": "",
   "name": "links"
  },
  "language_info": {
   "file_extension": ".links",
   "name": "links"
  }
 },
 "nbformat": 4,
 "nbformat_minor": 2
}
