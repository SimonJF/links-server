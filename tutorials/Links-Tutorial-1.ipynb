{
 "cells": [
  {
   "cell_type": "markdown",
   "metadata": {},
   "source": [
    "# Tutorial 1: Hello World!\n",
    "\n",
    "### Goal: make a web page that says \"Hello World!\".\n",
    "\n",
    "Let's start with the simplest possible program: one that just prints \"Hello, world\". The starter code will not work right away, but you can fix it real quick!\n",
    "\n",
    "This is a tiny bit more complicated than you might expect. Let's go through the main components of the program:\n",
    "\n",
    "The mainPage function defines what to do to render the main page of the program. The keyword fun starts a function definition and the body of the function is enclosed in curly braces.\n",
    "\n",
    "The body of the function defines the return value. In Links, the body of a function is evaluated to a value, which is returned. In this case, the return value is a page, defined using the page keyword. Pages can be defined using XML literals; for example, here we write `<html>` and `<body>` tags, then the appropriate closing tags. The difference between a page and an XML value is that a page has additional structure needed for Links to render the page as the result of a web request (for example to handle any forms embedded in the page).\n",
    "\n",
    "If you run the program now, it would show an empty page. Change the page returned by mainPage to include a `<h1>` tag that has the text \"Hello World!\". Once you have done that. Press **Shift** + **Enter** and see the result!\n",
    "\n",
    "If you don't see the page and got some errors, double check you have your tags properly closed."
   ]
  },
  {
   "cell_type": "code",
   "execution_count": null,
   "metadata": {},
   "outputs": [],
   "source": [
    "fun mainPage () {\n",
    "   page\n",
    "    <html>\n",
    "      <body>\n",
    "        \n",
    "      </body>\n",
    "    </html>\n",
    "}\n",
    "\n",
    "mainPage()"
   ]
  },
  {
   "cell_type": "markdown",
   "metadata": {},
   "source": [
    "## Additional Exercises\n",
    "\n",
    "\n",
    "\n",
    "1. Change the program by modifying the content of the HTML body, or adding content (such as a page title) under the `<head>` tag. Does this work? What happens if you add HTML with unbalanced tags, e.g. `<p>` test `<b>` bold `</p>`?\n",
    "\n",
    "\n",
    "2. In Links, there is a difference between a page (which is a legitimate response to an HTTP request) and plain XML. What happens if you omit the keyword page from mainPage?\n",
    "\n",
    "\n",
    "3. If you are familiar with CSS or JavaScript, what happens if you include a `<style>` or `<script>` tag in the page content?\n"
   ]
  },
  {
   "cell_type": "code",
   "execution_count": null,
   "metadata": {},
   "outputs": [],
   "source": []
  }
 ],
 "metadata": {
  "kernelspec": {
   "display_name": "Links",
   "language": "",
   "name": "mykernel"
  },
  "language_info": {
   "file_extension": ".links",
   "name": "links_kernel"
  }
 },
 "nbformat": 4,
 "nbformat_minor": 2
}
