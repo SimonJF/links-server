{
 "cells": [
  {
   "cell_type": "markdown",
   "metadata": {},
   "source": [
    "# Lesson 7: Draggable List\n",
    "\n",
    "### Goal: Create an Interactive List with Draggable Elements.\n",
    "\n",
    "Undoubtedly, knowledge of JavaScript is an inseparable skill for any web developer. Links addresses this issue by allowing you to create interactive elements just like JavaScript does.\n",
    "\n",
    "A Draggable list is the list in which the elements can be swapped with each other by dragging and releasing them over other nodes. It is implemented by reacting to the user's events, such as mouse button click and release."
   ]
  },
  {
   "cell_type": "code",
   "execution_count": null,
   "metadata": {},
   "outputs": [],
   "source": []
  },
  {
   "cell_type": "code",
   "execution_count": 1,
   "metadata": {},
   "outputs": [
    {
     "data": {
      "text/html": [
       "()"
      ],
      "text/plain": [
       "()"
      ]
     },
     "metadata": {},
     "output_type": "display_data"
    }
   ],
   "source": [
    "mutual {\n",
    "\n",
    "fun waiting(id) client {\n",
    " receive {\n",
    "  case MouseDown(elem)  ->\n",
    "   if (isElementNode(elem) && (parentNode(elem) == getNodeById(id)))\n",
    "    dragging(id, elem)\n",
    "   else\n",
    "    waiting(id)\n",
    "  case MouseUp          -> waiting(id)\n",
    "  case MouseOut(toElem) -> waiting(id)\n",
    " }\n",
    "}\n",
    "\n",
    "fun dragging(id, elem) client {\n",
    " receive {\n",
    "  case MouseUp          -> waiting(id)\n",
    "  case MouseDown(elem)  ->\n",
    "   if (isElementNode(elem) && (parentNode(elem) == getNodeById(id)))\n",
    "    dragging(id, elem)\n",
    "   else\n",
    "    waiting(id)\n",
    "  case MouseOut(toElem) ->\n",
    "   if (isElementNode(toElem) && (parentNode(toElem) == getNodeById(id))) {\n",
    "    swapNodes(elem, toElem);\n",
    "    dragging(id, elem)\n",
    "   } else dragging(id, elem)\n",
    " }\n",
    "}\n",
    "}\n",
    "\n",
    "fun format(text) {\n",
    "    <li style=\"font: 18px Georgia; background-color: #91CDFF; border:1px solid #00197F; cursor: move; margin: 0px;\">\n",
    "    {stringToXml(text)}\n",
    "\t</li>\n",
    "}"
   ]
  },
  {
   "cell_type": "code",
   "execution_count": 2,
   "metadata": {},
   "outputs": [
    {
     "data": {
      "text/html": [
       "()"
      ],
      "text/plain": [
       "()"
      ]
     },
     "metadata": {},
     "output_type": "display_data"
    }
   ],
   "source": [
    "fun draggableList(id, items)\n",
    "{\n",
    "  var x = id;\n",
    "  var dragger = spawnClient { waiting(id) };\n",
    "   <ul id=\"{id}\" style=\"width: 200px;\n",
    "        list-style-image: url(http://script.aculo.us/images/bullet.gif)\"\n",
    "      l:onmouseup   = \"{dragger ! MouseUp}\"\n",
    "      l:onmouseuppage = \"{dragger ! MouseUp}\"\n",
    "      l:onmousedown = \"{dragger ! MouseDown(getTarget(event))}\"\n",
    "      l:onmouseout  = \"{dragger ! MouseOut(getToElement(event))}\"\n",
    "   >\n",
    "    {for (item <- items)\n",
    "         format(item)}\n",
    "  </ul>\n",
    "\n",
    "}"
   ]
  },
  {
   "cell_type": "code",
   "execution_count": 3,
   "metadata": {},
   "outputs": [
    {
     "data": {
      "text/html": [
       "<iframe src=\"http://localhost:8080/0\" width=\"900\" height=\"400\"></iframe>"
      ],
      "text/plain": [
       "<iframe src=\"http://localhost:8080/0\" width=\"900\" height=\"400\"></iframe>"
      ]
     },
     "metadata": {},
     "output_type": "display_data"
    }
   ],
   "source": [
    "fun mainPage() {\n",
    "  page\n",
    "   <html>\n",
    "   <body>\n",
    "   <h2>Great Bears</h2>\n",
    "   {draggableList(\"bears\",[\"Pooh\", \"Paddington\", \"Rupert\", \"Edward\"])}\n",
    "   </body>\n",
    "   </html>\n",
    "}\n",
    "\n",
    "mainPage()"
   ]
  },
  {
   "cell_type": "markdown",
   "metadata": {},
   "source": [
    "## Additional Exercises\n",
    "\n",
    "1. Make the nodes swap when one of them is dragged over another and the user releases the mouse button. Recall `swapNodes()` method from previous exercises.\n",
    "\n",
    "\n",
    "2. Complete the code for the case `l:onmousedown` (clicking the mouse button) in `draggableList()` function. Refer to the code in `waiting()` and `dragging()` methods to see what arguments and actions should be used.\n"
   ]
  },
  {
   "cell_type": "code",
   "execution_count": null,
   "metadata": {},
   "outputs": [],
   "source": []
  }
 ],
 "metadata": {
  "kernelspec": {
   "display_name": "Links",
   "language": "",
   "name": "links"
  },
  "language_info": {
   "file_extension": ".links",
   "name": "links"
  }
 },
 "nbformat": 4,
 "nbformat_minor": 2
}
