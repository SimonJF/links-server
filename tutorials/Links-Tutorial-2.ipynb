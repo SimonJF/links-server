{
 "cells": [
  {
   "cell_type": "markdown",
   "metadata": {},
   "source": [
    "# Lesson 2: Simple Forms\n",
    "\n",
    "### Goal: make a web form that takes a string and an integer. When the form submits you should be able to see the values you inputted.\n",
    "\n",
    "This tutorial illustrates how to create a form in Links and how to handle form submission. There are several ways to do this in Links:\n",
    "\n",
    "1. HTML forms with submission handled by POSTing the form response to the server\n",
    "2. HTML forms with submission handled by client-side (JavaScript) code\n",
    "3. formlets, a higher-level abstraction for forms that allows for validation\n",
    "\n",
    "This lesson is about the first approach, which is simplest and probably most familiar from other HTML or web programming settings. The form is defined in the `mainPage` function. This function creates a page that contains a submittable form. This is done largely as in ordinary HTML using the `<form>` tag to delimit the form, `<input>` tags to describe the form inputs, and the `<button>` tag to define a submission button.\n",
    "\n",
    "There are also some important differences. In Links, there are special attributes that should be used with forms, so that Links can recognize and bind input values to Links variables, and likewise to give Links code that should be executed when the form is submitted. Take a look at the `<form>` tag and its children below.\n",
    "\n",
    "The `<input>` tags includes an attribute `l:name` which is given value `s` in the string field and `i` in the integer field. Using this attribute means that when the form is submitted, Links will bind the value in the string field to `s` and bind the value of the integer field to `i`. (The values are considered as strings in either case, since they are provided in a text field. For HTML forms, Links does not perform any validation.) The value attribute is just as in plain HTML: it gives the initial value of the field.\n",
    "\n",
    "The `<form>` tag includes an attribute `l:action` whose value is a piece of Links code to be called when the form is submitted. The code is enclosed in {} braces in order to ensure Links parses it as Links code rather than as a string literal. Because the `l:action` field is used, the Links code is expected to return a page. (Unfortunately, the error message you get if this is wrong is quite opaque.)\n",
    "\n",
    "### Task\n",
    "\n",
    "Right now `l:action` is not wired to anything, and if you run it, you are going to see a weird error message. Try to make it call the function `handleForm` that constructs the page resulting from submitting the form. Remember you need to include the Links code in {}. Be sure to include the variables `s` and `i` introduced in the form using `l:name` as parameters. Since they are both strings, we need to convert the integer parameter to an actual integer (this will fail if the submitted string doesn't parse to an integer).\n",
    "\n",
    "The `handleForm` function simply constructs a new page that shows the submitted string and integer values. Both need to be coerced to XML strings using `stringToXml` or `intToXml`."
   ]
  },
  {
   "cell_type": "code",
   "execution_count": 10,
   "metadata": {},
   "outputs": [
    {
     "data": {
      "text/html": [
       "()"
      ],
      "text/plain": [
       "()"
      ]
     },
     "metadata": {},
     "output_type": "display_data"
    }
   ],
   "source": [
    "fun handleForm(s,i) {\n",
    "    page \n",
    "      <html>\n",
    "        <body>\n",
    "          <p>The string was: {stringToXml(s)}</p>\n",
    "          <p>The integer was: {intToXml(i)}</p>\n",
    "        </body>\n",
    "      </html>\n",
    "    }"
   ]
  },
  {
   "cell_type": "markdown",
   "metadata": {},
   "source": [
    "### Note\n",
    "\n",
    "Remember, execute the cells using **Shift** + **Enter**. The first cell just defines handleForm while the second should provide the form."
   ]
  },
  {
   "cell_type": "code",
   "execution_count": 11,
   "metadata": {},
   "outputs": [
    {
     "data": {
      "text/html": [
       "()"
      ],
      "text/plain": [
       "()"
      ]
     },
     "metadata": {},
     "output_type": "display_data"
    }
   ],
   "source": [
    "fun mainPage () {\n",
    "     page \n",
    "        <html>\n",
    "        <body>\n",
    "          <h1>Example form</h1>\n",
    "          <form l:action=\"{handleForm(s, stringToInt(i))}\">\n",
    "            A string: \n",
    "\t\t\t<br />\n",
    "\t\t\t\n",
    "\t\t\t<input l:name=\"s\" value=\"Peter\"/>\n",
    "\t\t\t<br />\n",
    "\t\t\t\n",
    "            An integer: \n",
    "\t\t\t<br />\n",
    "\t\t\t\n",
    "\t\t\t<input l:name=\"i\" type=\"number\" value=\"65\"/>\n",
    "\t\t\t<br />\n",
    "\t\t\t\n",
    "            <button type=\"submit\">Submit!</button>\n",
    "          </form>\n",
    "          </body>\n",
    "        </html>\n",
    "}"
   ]
  },
  {
   "cell_type": "code",
   "execution_count": 13,
   "metadata": {},
   "outputs": [
    {
     "data": {
      "text/html": [
       "<iframe src=\"http://localhost:8080/7\" width=\"900\" height=\"400\"></iframe>"
      ],
      "text/plain": [
       "<iframe src=\"http://localhost:8080/7\" width=\"900\" height=\"400\"></iframe>"
      ]
     },
     "metadata": {},
     "output_type": "display_data"
    }
   ],
   "source": [
    "mainPage()"
   ]
  },
  {
   "cell_type": "markdown",
   "metadata": {},
   "source": [
    "## Additional Exercises\n",
    "\n",
    "1. What happens if you leave off the `l:` prefix of the name attribute? Is the error message you get enlightening?\n",
    "\n",
    "\n",
    "2. What happens if you leave off the `l:` prefix of the action attribute? Is the error message you get enlightening?\n",
    "\n",
    "\n",
    "3. What happens if you leave off the curly braces in the `l:action` attribute value `{handleForm(s,stringToInt(i))}`?\n",
    "\n",
    "\n",
    "4. What happens if you return something other than a page from the `l:action` attribute value? For example, change to `{(s,i)}`?\n",
    "\n",
    "\n",
    "5. Experiment with including other standard HTML form elements such as textarea, radio, checkbox.\n"
   ]
  },
  {
   "cell_type": "code",
   "execution_count": null,
   "metadata": {},
   "outputs": [],
   "source": []
  }
 ],
 "metadata": {
  "kernelspec": {
   "display_name": "Links",
   "language": "",
   "name": "links"
  },
  "language_info": {
   "file_extension": ".links",
   "name": "links"
  }
 },
 "nbformat": 4,
 "nbformat_minor": 2
}
