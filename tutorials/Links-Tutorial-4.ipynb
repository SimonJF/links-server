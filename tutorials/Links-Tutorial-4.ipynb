{
 "cells": [
  {
   "cell_type": "markdown",
   "metadata": {},
   "source": [
    "# Lesson 4: Client side TODO list\n",
    "\n",
    "### Goal: make a non-persistent TODO list.\n",
    "\n",
    "This program creates an interactive, client-side TODO list. It works on the same principle as the previous one: values are submitted using a form, and the form response is an action performed on the client side (using `l:onsubmit`).\n",
    "\n",
    "The `todo` function takes as an argument the current list of items. When first called, this list has one element, \"add items to todo list\". The function creates an XML snippet containing two things: a form for adding todo list items, and the todo list itself. When submitted, the form replaces the document content (using `replaceDocument`) with the result of calling `todo` again with an extended todo list. \n",
    "\n",
    "The todo list itself is rendered as a table, with the first column containing the todo list items themselves and the second column containing buttons which, when pressed, will remove the list item. The buttons are embedded in forms, again using the `l:onsubmit` action so that the action will be performed on the client side without an intervening POST action.\n",
    "\n",
    "The todo list is built using a comprehension of the form for (item <- items) `<XML snippet>`. There are a couple of things worth mentioning about this construct. Comprehensions allow us to iterate over the elements of a list, such as items, and on each iteration the corresponding element is bound to a variable item, which can be used in the body of the comprehension. The body of the comprehension in this case is the XML snippet that constructs each table row. In general, the result of a comprehension is a list constructed by concatenating all of the lists constructed in each iteration; thus, the return value of a comprehension body has to be a list. This is the case because in Links, the type Xml is an alias for the list type \\[XmlItem\\], that is, Xml content is a list of XmlItem values, each of which corresponds to a single XML tree.\n",
    "\n",
    "(For somewhat obscure reasons, this works fine as long as we are returning only a single XML tree as the result of for. But if we wanted to return multiple XML items, we could enclose them in the XML quasiquote tags `<#>...</#>` so that Links will parse all of them as a single list.)\n",
    "\n",
    "### Task\n",
    "\n",
    "The `remove` function traverses the todo list and removes the item(s) with matching names. If you know Haskell, this structure should be very familiar. Fill in the different cases for the `remove` function.\n",
    "\n",
    "Also, fill out the parameters of the two `replaceDocument` function calls, one for adding new item and one for marking an item as done."
   ]
  },
  {
   "cell_type": "code",
   "execution_count": null,
   "metadata": {},
   "outputs": [],
   "source": [
    "fun remove(item, items) {\n",
    "  switch (items) {\n",
    "    case []    -> # Fill out base case\n",
    "    case x::xs -> # Fill out recursion case\n",
    "  }\n",
    "}"
   ]
  },
  {
   "cell_type": "code",
   "execution_count": null,
   "metadata": {},
   "outputs": [],
   "source": [
    "fun todo(items) {\n",
    "  \n",
    "  <html>\n",
    "  <body>\n",
    "    <form l:onsubmit=\"{replaceDocument( #Fill argument )}\"> \n",
    "      <input l:name=\"item\"/>\n",
    "      <button type=\"submit\">Add item</button>\n",
    "    </form>\n",
    "    <table>\n",
    "      {for (item <- items)\n",
    "\t    <tr>\n",
    "\t\t  <td>{stringToXml(item)}</td>\n",
    "          <td>\n",
    "\t\t    <form l:onsubmit=\"{replaceDocument( #Fill argument )}\"> \n",
    "              <button type=\"submit\">Completed</button>\n",
    "            </form>\n",
    "          </td>\n",
    "        </tr>\n",
    "\t  }\n",
    "    </table>\n",
    "  </body>\n",
    "  </html>\n",
    "}"
   ]
  },
  {
   "cell_type": "code",
   "execution_count": null,
   "metadata": {},
   "outputs": [],
   "source": [
    "fun mainPage() {\n",
    "  page\n",
    "  <#>{todo([\"add items to todo list\"])}</#>\n",
    "}\n",
    "\n",
    "mainPage()"
   ]
  },
  {
   "cell_type": "markdown",
   "metadata": {},
   "source": [
    "## Additional Exercises\n",
    "\n",
    "\n",
    "\n",
    "1. What happens if you stop the Links interpreter and restart it? Is the todo list persistent?\n",
    "\n",
    "\n",
    "2. What happens if you visit the todo list from two different browser windows? Is the todo list shared across them?\n",
    "\n",
    "\n",
    "3. What happens if you add multiple identical items to the todo list? What happens if you try to remove one of them? How could we change this behavior?"
   ]
  },
  {
   "cell_type": "code",
   "execution_count": null,
   "metadata": {},
   "outputs": [],
   "source": []
  }
 ],
 "metadata": {
  "kernelspec": {
   "display_name": "Links",
   "language": "",
   "name": "links"
  },
  "language_info": {
   "file_extension": ".links",
   "name": "links"
  }
 },
 "nbformat": 4,
 "nbformat_minor": 2
}
