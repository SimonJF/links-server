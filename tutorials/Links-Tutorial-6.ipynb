{
 "cells": [
  {
   "cell_type": "markdown",
   "metadata": {},
   "source": [
    "# Lesson 6: Database TODO list: Updating tables\n",
    "\n",
    "### Goal: make a persistent TODO list.\n",
    "\n",
    "### Overview\n",
    "\n",
    "This example program is superficially similar to lesson 4's TODO list. However, instead of storing the TODO list in a list value on the client, this program stores it in the database. So, there are two important differences:\n",
    "\n",
    "1. Todo list items are persistent in the database and will survive if the Links program terminates and is restarted. (By the same token, they could also be accessed through the database interactive interface or by other applications with access to the database.)\n",
    "2. Todo list items are centralized and different copies of the todo list program running in different browser windows can see the same data.\n",
    "\n",
    "The user interface for this version of the TODO list program is the same as before, so we won't explain it again. The main differences are in how the list is displayed and changed.\n",
    "\n",
    "In `showList`, instead of using a list comprehension over an in-memory list, we use a query: `query {for (item <-- items) [item]}`. This generates a simple SQL query that just returns all of the list items. Because `showList` queries the database, we annotate it `server` so that this happens on the server.\n",
    "\n",
    "The actions for the insert and remove buttons are also different: they simply call the `add` and `remove` functions. These functions use Links's syntax for database table:\n",
    "\n",
    "`insert TABLE_NAME values [(COLUMN1_NAME=VALUE1, COLUMN2_NAME=VALUE2, ...)];`\n",
    "\n",
    "And\n",
    "\n",
    "`delete (r <-- TABLE_NAME) where (r.COLUMN1_NAME=VALUE1, r.COLUMN2_NAME=VALUE2, ...);`\n",
    "\n",
    "As before, `add` and `remove` are annotated server so that these will be performed on the server.\n",
    "\n",
    "Links also supports `update` syntax, for example:\n",
    "\n",
    "`update (i <-- items)\n",
    "   where (i.name == oldname)\n",
    "    set (name=newname)`\n",
    "\n",
    "renames an item from `oldname` to `newname`.\n",
    "\n",
    "### Task\n",
    "\n",
    "To make this web page work, add an argument in the `remove` call in `showList`."
   ]
  },
  {
   "cell_type": "code",
   "execution_count": null,
   "metadata": {},
   "outputs": [],
   "source": [
    "var db = database \"links\";\n",
    "var items = table \"todo\" with (name : String) from db;\n",
    "  \n",
    "fun showList() server {\n",
    "   page\n",
    "    <html>\n",
    "     <body>\n",
    "      <form l:action=\"{add(item)}\" method=\"POST\">\n",
    "        <input l:name=\"item\"/>\n",
    "        <button type=\"submit\">Add item</button>\n",
    "      </form>\n",
    "      <table>\n",
    "       {for (item <- query {for (item <-- items) [item]})\n",
    "          <tr><td>{stringToXml(item.name)}</td>\n",
    "              <td><form l:action=\"{remove( # Fill argument )}\" method=\"POST\">\n",
    "                   <button type=\"submit\">Done</button>\n",
    "                  </form>\n",
    "              </td>\n",
    "          </tr>}\n",
    "       </table>\n",
    "      </body>\n",
    "    </html>\n",
    "}"
   ]
  },
  {
   "cell_type": "code",
   "execution_count": null,
   "metadata": {},
   "outputs": [],
   "source": [
    "fun add(name) server {\n",
    "   insert items values [(name=name)];\n",
    "   showList()\n",
    "}\n",
    "  \n",
    "fun remove(name) server {\n",
    "   delete (r <-- items) where (r.name == name);\n",
    "   showList()\n",
    "}"
   ]
  },
  {
   "cell_type": "code",
   "execution_count": null,
   "metadata": {},
   "outputs": [],
   "source": [
    "fun mainPage () {\n",
    "    showList()\n",
    "}\n",
    "\n",
    "mainPage()"
   ]
  },
  {
   "cell_type": "markdown",
   "metadata": {},
   "source": [
    "### Additional Exercises\n",
    "\n",
    "1. What happens if the `server` annotation is removed from `showList`, `add` or `remove`?\n",
    "\n",
    "\n",
    "2. What happens if you replace the `server` annotation with `client` in the above functions?\n",
    "\n",
    "\n",
    "3. Using `update`, modify the code to allow renaming an existing item.\n",
    "\n",
    "\n",
    "4. This version of the TODO list uses `l:action` to handle the form responses by POSTing to the server. Some server communication is unavoidable because we need to get data from the database, or update the database, but it should be possible to rewrite this program to use `l:onsubmit` to avoid completely rebuilding the page whenever the a button is clicked, using a similar approach to the client-side form in lessons 3 or 5. Modify the code to work this way.\n"
   ]
  },
  {
   "cell_type": "code",
   "execution_count": null,
   "metadata": {},
   "outputs": [],
   "source": []
  }
 ],
 "metadata": {
  "kernelspec": {
   "display_name": "Links",
   "language": "",
   "name": "mykernel"
  },
  "language_info": {
   "file_extension": ".links",
   "name": "links_kernel"
  }
 },
 "nbformat": 4,
 "nbformat_minor": 2
}
